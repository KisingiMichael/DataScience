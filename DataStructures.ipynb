{
  "nbformat": 4,
  "nbformat_minor": 0,
  "metadata": {
    "colab": {
      "name": "DataStructures.ipynb",
      "provenance": [],
      "authorship_tag": "ABX9TyMqp05+QpsYc/3ZG89LVYPF",
      "include_colab_link": true
    },
    "kernelspec": {
      "name": "python3",
      "display_name": "Python 3"
    },
    "language_info": {
      "name": "python"
    }
  },
  "cells": [
    {
      "cell_type": "markdown",
      "metadata": {
        "id": "view-in-github",
        "colab_type": "text"
      },
      "source": [
        "<a href=\"https://colab.research.google.com/github/KisingiMichael/DataScience/blob/main/DataStructures.ipynb\" target=\"_parent\"><img src=\"https://colab.research.google.com/assets/colab-badge.svg\" alt=\"Open In Colab\"/></a>"
      ]
    },
    {
      "cell_type": "code",
      "metadata": {
        "id": "-9cRSnCMJFLU",
        "colab": {
          "base_uri": "https://localhost:8080/"
        },
        "outputId": "851d99ce-90ad-4bf4-bbed-e81c8f93ce11"
      },
      "source": [
        "##Array\n",
        "import numpy as np\n",
        "my_arr=np.array([1,3,5,6,8,9])\n",
        "print(my_arr)"
      ],
      "execution_count": null,
      "outputs": [
        {
          "output_type": "stream",
          "text": [
            "[1 3 5 6 8 9]\n"
          ],
          "name": "stdout"
        }
      ]
    },
    {
      "cell_type": "code",
      "metadata": {
        "id": "pBwHPX4NG0XY",
        "colab": {
          "base_uri": "https://localhost:8080/"
        },
        "outputId": "604c6428-a6e3-45a7-a460-17f37d826b5e"
      },
      "source": [
        "##Tuples\n",
        "my_tuple =(2,4,5,6,8,1, \"Michael\")\n",
        "print(my_tuple)"
      ],
      "execution_count": null,
      "outputs": [
        {
          "output_type": "stream",
          "text": [
            "(2, 4, 5, 6, 8, 1, 'Michael')\n"
          ],
          "name": "stdout"
        }
      ]
    },
    {
      "cell_type": "code",
      "metadata": {
        "colab": {
          "base_uri": "https://localhost:8080/"
        },
        "id": "-C8e3oMh5F4c",
        "outputId": "7d6f2f71-9473-49e6-c231-6dd04c36c7ba"
      },
      "source": [
        "##Lists\n",
        "my_list= [\"michael\", \"Kisingi\", 1, 3, 6]\n",
        "print(my_list)"
      ],
      "execution_count": null,
      "outputs": [
        {
          "output_type": "stream",
          "text": [
            "['michael', 'Kisingi', 1, 3, 6]\n"
          ],
          "name": "stdout"
        }
      ]
    },
    {
      "cell_type": "markdown",
      "metadata": {
        "id": "52Yi4cm6Bg3r"
      },
      "source": [
        "Dictionaries store key-value pairs. That is, every element of a dictionary has two parts, a key and a value.\n",
        "Keys can be different types, but they must be immutable types such as\n",
        "atomic types, tuples, or strings. The reason for this requirement is that we will determine where to store something using the key. If the key changes,we will look in the wrong place when it’s time to look it up again.\n",
        "\n",
        "If you assign to a key that’s not in the dictionary, it simply creates a new item. If you try to access a key that’s not in the dictionary, you will\n",
        "get a KeyError."
      ]
    },
    {
      "cell_type": "code",
      "metadata": {
        "colab": {
          "base_uri": "https://localhost:8080/"
        },
        "id": "MoBrzjQP6g8Z",
        "outputId": "abfb75d0-e695-42c3-e0ba-04f8803b1c6b"
      },
      "source": [
        "##Dictionary\n",
        "my_dict= {'name':'Michael', 'age':27, 'nationality':'Tanzania'}\n",
        "\n",
        "my_dict['Native Language'] = 'sawahili'\n",
        "\n",
        "print(my_dict['name'])\n",
        "\n",
        "print(my_dict)\n",
        "\n",
        "\n",
        "#assessing and assigning elements in a dictionary\n",
        "d=dict()\n",
        "\n",
        "d['pi'] = 3.14\n",
        "\n",
        "print(d)\n",
        "\n",
        "print(d['pi'])"
      ],
      "execution_count": null,
      "outputs": [
        {
          "output_type": "stream",
          "text": [
            "{'name': 'Michael', 'age': 27, 'nationality': 'Tanzania', 'Native Language': 'sawahili'}\n",
            "{'pi': 3.14}\n",
            "3.14\n"
          ],
          "name": "stdout"
        }
      ]
    }
  ]
}